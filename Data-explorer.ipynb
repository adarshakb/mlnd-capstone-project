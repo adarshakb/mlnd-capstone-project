{
 "cells": [
  {
   "cell_type": "code",
   "execution_count": 78,
   "metadata": {
    "collapsed": false
   },
   "outputs": [],
   "source": [
    "import pandas\n",
    "\n",
    "train_data = pandas.read_csv('dataset/Kaggle_Training_Dataset.csv')\n",
    "train_data = train_data.set_index('sku')"
   ]
  },
  {
   "cell_type": "code",
   "execution_count": 79,
   "metadata": {
    "collapsed": false
   },
   "outputs": [],
   "source": [
    "\n",
    "test_data = pandas.read_csv('dataset/Kaggle_Test_Dataset.csv')\n",
    "test_data = test_data.set_index('sku')"
   ]
  },
  {
   "cell_type": "code",
   "execution_count": 80,
   "metadata": {
    "collapsed": false
   },
   "outputs": [],
   "source": [
    "# print(train_data[:10])"
   ]
  },
  {
   "cell_type": "code",
   "execution_count": 81,
   "metadata": {
    "collapsed": false
   },
   "outputs": [
    {
     "name": "stdout",
     "output_type": "stream",
     "text": [
      "shape = (1693050, 22)\n",
      "columns =  ['national_inv' 'lead_time' 'in_transit_qty' 'forecast_3_month'\n",
      " 'forecast_6_month' 'forecast_9_month' 'sales_1_month' 'sales_3_month'\n",
      " 'sales_6_month' 'sales_9_month' 'min_bank' 'potential_issue'\n",
      " 'pieces_past_due' 'perf_6_month_avg' 'perf_12_month_avg' 'local_bo_qty'\n",
      " 'deck_risk' 'oe_constraint' 'ppap_risk' 'stop_auto_buy' 'rev_stop'\n",
      " 'went_on_backorder']\n"
     ]
    }
   ],
   "source": [
    "#print all the columns/features\n",
    "print(\"shape =\",train_data.shape)\n",
    "print(\"columns = \", train_data.columns.values)"
   ]
  },
  {
   "cell_type": "code",
   "execution_count": 82,
   "metadata": {
    "collapsed": false
   },
   "outputs": [
    {
     "name": "stdout",
     "output_type": "stream",
     "text": [
      "went_on_backorder = Yes =  (10914, 22)\n",
      "went_on_backorder = No =  (1682136, 22)\n",
      "went_on_backorder = % of Yes/no =  0.6446354212811198\n"
     ]
    }
   ],
   "source": [
    "#distribution of 'went_on_backorder'\n",
    "yes_shape = train_data[train_data['went_on_backorder'] == 'Yes'].shape\n",
    "no_shape = train_data[train_data['went_on_backorder'] == 'No'].shape\n",
    "print(\"went_on_backorder = Yes = \", yes_shape)\n",
    "print(\"went_on_backorder = No = \", no_shape)\n",
    "print(\"went_on_backorder = % of Yes/no = \", yes_shape[0]*100.0/train_data.shape[0])\n"
   ]
  },
  {
   "cell_type": "code",
   "execution_count": 83,
   "metadata": {
    "collapsed": false
   },
   "outputs": [
    {
     "name": "stdout",
     "output_type": "stream",
     "text": [
      "potential_issue\n",
      "Went on backorder\n",
      "35\n",
      "YES % =  0.0020672750361773132\n",
      "============================\n",
      "deck_risk\n",
      "Went on backorder\n",
      "1577\n",
      "YES % =  0.09314550663004637\n",
      "============================\n",
      "oe_constraint\n",
      "Went on backorder\n",
      "5\n",
      "YES % =  0.0002953250051681876\n",
      "============================\n",
      "ppap_risk\n",
      "Went on backorder\n",
      "1578\n",
      "YES % =  0.09320457163108001\n",
      "============================\n",
      "stop_auto_buy\n",
      "Went on backorder\n",
      "10434\n",
      "YES % =  0.6162842207849739\n",
      "============================\n",
      "rev_stop\n",
      "Went on backorder\n",
      "17\n",
      "YES % =  0.0010041050175718378\n",
      "============================\n"
     ]
    }
   ],
   "source": [
    "#not_went_on_backorder = train_data[train_data['went_on_backorder'] == 'No']\n",
    "#went_on_backorder = train_data[train_data['went_on_backorder'] == 'Yes']\n",
    "#import matplotlib.pyplot as plt\n",
    "\n",
    "\n",
    "columns = ['potential_issue','deck_risk','oe_constraint','ppap_risk','stop_auto_buy','rev_stop']\n",
    "\n",
    "for col in columns:\n",
    "    print(col)\n",
    "    print(\"Went on backorder\")\n",
    "    yes_len = train_data[(train_data[col] == 'Yes') & (train_data['went_on_backorder'] == 'Yes')].shape[0]\n",
    "    #no_len = train_data[(train_data[col] == 'No') & (train_data['went_on_backorder'] == 'Yes')].shape[0]\n",
    "    print(yes_len);\n",
    "    #print(no_len);\n",
    "    print(\"YES % = \",yes_len*100.0/(train_data.shape[0]))\n",
    "    #print(\"NO % = \",no_len*100.0/(yes_len+no_len))\n",
    "    print(\"============================\")\n",
    "    "
   ]
  },
  {
   "cell_type": "code",
   "execution_count": 84,
   "metadata": {
    "collapsed": false
   },
   "outputs": [
    {
     "name": "stdout",
     "output_type": "stream",
     "text": [
      "Total size =  1693050\n",
      "True positive =  10434\n",
      "True negative =  65233\n",
      "False positive =  1616903\n",
      "False negative =  480\n"
     ]
    }
   ],
   "source": [
    "#dig deeper into stop_auto_buy\n",
    "\n",
    "print (\"Total size = \", train_data.shape[0])\n",
    "print (\"True positive = \",train_data[(train_data['stop_auto_buy'] == 'Yes') & (train_data['went_on_backorder'] == 'Yes')].shape[0])\n",
    "print (\"True negative = \",train_data[(train_data['stop_auto_buy'] == 'No') & (train_data['went_on_backorder'] == 'No')].shape[0])\n",
    "print (\"False positive = \",train_data[(train_data['stop_auto_buy'] == 'Yes') & (train_data['went_on_backorder'] == 'No')].shape[0])\n",
    "print (\"False negative = \",train_data[(train_data['stop_auto_buy'] == 'No') & (train_data['went_on_backorder'] == 'Yes')].shape[0])"
   ]
  },
  {
   "cell_type": "code",
   "execution_count": 85,
   "metadata": {
    "collapsed": false
   },
   "outputs": [],
   "source": [
    "def process(df):\n",
    "    \"\"\"We turn some of the features in to binary.\"\"\"\n",
    "    for col in ['potential_issue', 'deck_risk', 'oe_constraint', 'ppap_risk',\n",
    "               'stop_auto_buy', 'rev_stop', 'went_on_backorder']:\n",
    "        df[col] = (df[col] == 'Yes').astype(int)\n",
    "    return df\n",
    "train_data = process(train_data).dropna()\n",
    "test_data = process(test_data).dropna()\n",
    "from sklearn.ensemble import RandomForestClassifier\n",
    "\n",
    "est = RandomForestClassifier(n_jobs=-1, n_estimators=100, min_samples_split=10,\n",
    "                             max_depth=10, class_weight='balanced')\n",
    "X, y = train_data.drop('went_on_backorder', axis=1), train_data.went_on_backorder"
   ]
  },
  {
   "cell_type": "code",
   "execution_count": 86,
   "metadata": {
    "collapsed": false
   },
   "outputs": [],
   "source": [
    "est.fit(X, y)\n",
    "X2, y2 = test_data.drop('went_on_backorder', axis=1), test_data.went_on_backorder\n",
    "preds = est.predict_proba(X2)"
   ]
  },
  {
   "cell_type": "code",
   "execution_count": 88,
   "metadata": {
    "collapsed": false
   },
   "outputs": [
    {
     "name": "stdout",
     "output_type": "stream",
     "text": [
      "             precision    recall  f1-score   support\n",
      "\n",
      "          0       1.00      0.89      0.94    225210\n",
      "          1       0.07      0.82      0.13      2280\n",
      "\n",
      "avg / total       0.99      0.89      0.93    227490\n",
      "\n"
     ]
    }
   ],
   "source": [
    "import numpy as np\n",
    "from sklearn.metrics import classification_report\n",
    "pred_labels = np.argmax(preds, axis=1)\n",
    "print(classification_report(y2, pred_labels))"
   ]
  },
  {
   "cell_type": "code",
   "execution_count": null,
   "metadata": {
    "collapsed": true
   },
   "outputs": [],
   "source": []
  }
 ],
 "metadata": {
  "anaconda-cloud": {},
  "kernelspec": {
   "display_name": "Python [conda root]",
   "language": "python",
   "name": "conda-root-py"
  },
  "language_info": {
   "codemirror_mode": {
    "name": "ipython",
    "version": 3
   },
   "file_extension": ".py",
   "mimetype": "text/x-python",
   "name": "python",
   "nbconvert_exporter": "python",
   "pygments_lexer": "ipython3",
   "version": "3.5.2"
  }
 },
 "nbformat": 4,
 "nbformat_minor": 1
}
